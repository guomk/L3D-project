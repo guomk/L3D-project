{
 "cells": [
  {
   "cell_type": "code",
   "execution_count": 4,
   "metadata": {},
   "outputs": [],
   "source": [
    "import json"
   ]
  },
  {
   "cell_type": "code",
   "execution_count": 5,
   "metadata": {},
   "outputs": [
    {
     "name": "stdout",
     "output_type": "stream",
     "text": [
      "{'Tile Offsets': 'TileOffsets', 'Run Time Value': 'RunTimeValue', 'Exif Image Height': 'ExifImageHeight', 'Create Date': 'CreateDate', 'GPS Longitude': 'GPSLongitude', 'Scale Factor To 35 mm Equivalent': 'ScaleFactor35efl', 'Sensing Method': 'SensingMethod', 'Black Level': 'BlackLevel', 'Black Level Repeat Dim': 'BlackLevelRepeatDim', 'CFA Pattern 2': 'CFAPattern2', 'Color Matrix 1': 'ColorMatrix1', 'Offset Time Digitized': 'OffsetTimeDigitized', 'Software': 'Software', 'ISO': 'ISO', 'Noise Reduction Applied': 'NoiseReductionApplied', 'Directory': 'Directory', 'Image Unique ID': 'ImageUniqueID', 'As Shot Neutral': 'AsShotNeutral', 'Field Of View': 'FOV', 'GPS Img Direction': 'GPSImgDirection', 'GPS Horizontal Positioning Error': 'GPSHPositioningError', 'Preview Image Length': 'PreviewImageLength', 'Acceleration Vector': 'AccelerationVector', 'DNG Version': 'DNGVersion', 'MIME Type': 'MIMEType', 'Exif Image Width': 'ExifImageWidth', 'File Name': 'FileName', 'Preview Image Start': 'PreviewImageStart', 'CFA Pattern': 'CFAPattern', 'Focal Length': 'FocalLength35efl', 'Tile Width': 'TileWidth', 'Scene Type': 'SceneType', 'GPS Longitude Ref': 'GPSLongitudeRef', 'Apple 0x003b': 'RunTimeEpoch', 'Exif Byte Order': 'ExifByteOrder', 'Run Time Since Power Up': 'RunTimeSincePowerUp', 'Brightness Value': 'BrightnessValue', 'Sub Sec Time Digitized': 'SubSecTimeDigitized', 'Photometric Interpretation': 'PhotometricInterpretation', 'Run Time Flags': 'RunTimeFlags', 'DNG Backward Version': 'DNGBackwardVersion', 'Metering Mode': 'MeteringMode', 'Calibration Illuminant 1': 'CalibrationIlluminant1', 'Baseline Exposure': 'BaselineExposure', 'Exif Version': 'ExifVersion', 'Focal Length In 35mm Format': 'FocalLengthIn35mmFormat', 'Camera Model Name': 'Model', 'GPS Latitude': 'GPSLatitude', 'File Type Extension': 'FileTypeExtension', 'CFA Plane Color': 'CFAPlaneColor', 'Lens Info': 'LensInfo', 'Date/Time Original': 'SubSecDateTimeOriginal', 'Planar Configuration': 'PlanarConfiguration', 'Run Time Scale': 'RunTimeScale', 'Hyperfocal Distance': 'HyperfocalDistance', 'Lens Make': 'LensMake', 'Lens ID': 'LensID', 'Image Size': 'ImageSize', 'Shutter Speed': 'ShutterSpeed', 'GPS Date Stamp': 'GPSDateStamp', 'Bits Per Sample': 'BitsPerSample', 'GPS Position': 'GPSPosition', 'Flash': 'Flash', 'Tile Length': 'TileLength', 'Calibration Illuminant 2': 'CalibrationIlluminant2', 'Unique Camera Model': 'UniqueCameraModel', 'Modify Date': 'SubSecModifyDate', 'Subfile Type': 'SubfileType', 'File Type': 'FileType', 'Preview Image': 'PreviewImage', 'GPS Altitude Ref': 'GPSAltitudeRef', 'Compression': 'Compression', 'Color Matrix 2': 'ColorMatrix2', 'White Balance': 'WhiteBalance', 'Opcode List 3': 'OpcodeList3', 'GPS Img Direction Ref': 'GPSImgDirectionRef', 'Orientation': 'Orientation', 'Light Value': 'LightValue', 'GPS Dilution Of Precision': 'GPSDOP', 'Circle Of Confusion': 'CircleOfConfusion', 'Megapixels': 'Megapixels', 'Tile Byte Counts': 'TileByteCounts', 'GPS Altitude': 'GPSAltitude', 'CFA Repeat Pattern Dim': 'CFARepeatPatternDim', 'Apple 0x002e': 'SamplesPerPixel', 'White Level': 'WhiteLevel', 'GPS Latitude Ref': 'GPSLatitudeRef', 'Aperture': 'Aperture'}\n"
     ]
    }
   ],
   "source": [
    "mapping = json.load(open('mapping.json'))\n",
    "print(mapping)"
   ]
  },
  {
   "cell_type": "code",
   "execution_count": 10,
   "metadata": {},
   "outputs": [],
   "source": [
    "\n",
    "\n",
    "def isfloat(num):\n",
    "    try:\n",
    "        float(num)\n",
    "        return True\n",
    "    except ValueError:\n",
    "        return False\n",
    "    \n",
    "def isint(num):\n",
    "    try:\n",
    "        int(num)\n",
    "        return True\n",
    "    except ValueError:\n",
    "        return False\n",
    "\n",
    "for i in range(0,53):\n",
    "    \n",
    "    filename = 'LRM_%02d.txt'%i\n",
    "    outname = filename.replace('.txt', '.json')\n",
    "    parsed = {}\n",
    "    with open(filename, 'r') as f:\n",
    "        for line in f:\n",
    "            if line.startswith('--'):\n",
    "                continue\n",
    "            k, v = line.split(':', 1)\n",
    "            k = k.strip()\n",
    "            v = v.strip()\n",
    "            if isint(v):\n",
    "                v = int(v)\n",
    "            elif isfloat(v):\n",
    "                v = float(v)\n",
    "            if k in mapping:\n",
    "                parsed[mapping[k]] = v\n",
    "    black_level = list(parsed['BlackLevel'].split(' '))[0]\n",
    "    parsed['BlackLevel'] = float(black_level)\n",
    "    parsed = [parsed]\n",
    "    with open(outname, 'w') as f:\n",
    "        json.dump(parsed, f, indent=2)"
   ]
  },
  {
   "cell_type": "code",
   "execution_count": null,
   "metadata": {},
   "outputs": [],
   "source": []
  },
  {
   "cell_type": "code",
   "execution_count": null,
   "metadata": {},
   "outputs": [],
   "source": []
  }
 ],
 "metadata": {
  "kernelspec": {
   "display_name": "Python 3 (ipykernel)",
   "language": "python",
   "name": "python3"
  },
  "language_info": {
   "codemirror_mode": {
    "name": "ipython",
    "version": 3
   },
   "file_extension": ".py",
   "mimetype": "text/x-python",
   "name": "python",
   "nbconvert_exporter": "python",
   "pygments_lexer": "ipython3",
   "version": "3.9.13"
  }
 },
 "nbformat": 4,
 "nbformat_minor": 2
}
